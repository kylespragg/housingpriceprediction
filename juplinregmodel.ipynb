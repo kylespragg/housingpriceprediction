{
 "cells": [
  {
   "cell_type": "code",
   "execution_count": 11,
   "id": "37c7714b-3271-446d-a89d-069cd734aa75",
   "metadata": {},
   "outputs": [],
   "source": [
    "import numpy as np\n",
    "import pandas as pd\n",
    "import seaborn as sns\n",
    "import matplotlib.pyplot as plt\n",
    "\n",
    "from sklearn.model_selection import train_test_split, cross_val_score, KFold #used to split the data into training and testing sets\n",
    "from sklearn.linear_model import LinearRegression #used to create a linear regression model\n",
    "from sklearn.metrics import mean_squared_error #used to evaluate the model by comparing the predicted values to the actual values\n",
    "from sklearn.preprocessing import StandardScaler #used for proper scaling of values like area, bedrooms, bathrooms, stories, parking, etc.\n"
   ]
  },
  {
   "cell_type": "code",
   "execution_count": 10,
   "id": "30993d68-bdf5-4b88-affb-5e8c28c7d161",
   "metadata": {},
   "outputs": [
    {
     "name": "stdout",
     "output_type": "stream",
     "text": [
      "      price  area  bedrooms  bathrooms  stories mainroad guestroom basement  \\\n",
      "0  13300000  7420         4          2        3      yes        no       no   \n",
      "1  12250000  8960         4          4        4      yes        no       no   \n",
      "2  12250000  9960         3          2        2      yes        no      yes   \n",
      "3  12215000  7500         4          2        2      yes        no      yes   \n",
      "4  11410000  7420         4          1        2      yes       yes      yes   \n",
      "\n",
      "  hotwaterheating airconditioning  parking prefarea furnishingstatus  \n",
      "0              no             yes        2      yes        furnished  \n",
      "1              no             yes        3       no        furnished  \n",
      "2              no              no        2      yes   semi-furnished  \n",
      "3              no             yes        3      yes        furnished  \n",
      "4              no             yes        2       no        furnished  \n"
     ]
    }
   ],
   "source": [
    "df = pd.read_csv('Housing.csv')\n",
    "\n",
    "# Check the first few rows of the data\n",
    "print(df.head())\n",
    "\n",
    "features = ['bedrooms', 'bathrooms', 'stories', 'mainroad', 'guestroom', 'basement', 'hotwaterheating', 'airconditioning', 'parking', 'prefarea', 'furnishingstatus']\n",
    "target = ['price']\n",
    "\n",
    "data = pd.get_dummies(df, columns=features, drop_first=True) #ensures that we one-hot encode the categorical features (i.e. we convert them to binary values) and drop the first column to avoid multicollinearity (i.e. we ensure categories only have two values (yes/no) and nothing more than that)"
   ]
  },
  {
   "cell_type": "code",
   "execution_count": null,
   "id": "2945e392-40fe-4fab-9ce0-28dc4d5601b4",
   "metadata": {},
   "outputs": [],
   "source": []
  },
  {
   "cell_type": "code",
   "execution_count": null,
   "id": "d302786a-8a08-4546-9ca0-aed6f1c66cf5",
   "metadata": {},
   "outputs": [],
   "source": []
  }
 ],
 "metadata": {
  "kernelspec": {
   "display_name": "Python 3 (ipykernel)",
   "language": "python",
   "name": "python3"
  },
  "language_info": {
   "codemirror_mode": {
    "name": "ipython",
    "version": 3
   },
   "file_extension": ".py",
   "mimetype": "text/x-python",
   "name": "python",
   "nbconvert_exporter": "python",
   "pygments_lexer": "ipython3",
   "version": "3.12.6"
  }
 },
 "nbformat": 4,
 "nbformat_minor": 5
}
