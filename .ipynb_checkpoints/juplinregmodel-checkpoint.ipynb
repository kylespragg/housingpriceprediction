{
 "cells": [
  {
   "cell_type": "code",
   "execution_count": 11,
   "id": "37c7714b-3271-446d-a89d-069cd734aa75",
   "metadata": {},
   "outputs": [],
   "source": [
    "import numpy as np\n",
    "import pandas as pd\n",
    "import seaborn as sns\n",
    "import matplotlib.pyplot as plt\n",
    "\n",
    "from sklearn.model_selection import train_test_split, cross_val_score, KFold #used to split the data into training and testing sets\n",
    "from sklearn.linear_model import LinearRegression #used to create a linear regression model\n",
    "from sklearn.metrics import mean_squared_error #used to evaluate the model by comparing the predicted values to the actual values\n",
    "from sklearn.preprocessing import StandardScaler #used for proper scaling of values like area, bedrooms, bathrooms, stories, parking, etc.\n"
   ]
  },
  {
   "cell_type": "code",
   "execution_count": 10,
   "id": "30993d68-bdf5-4b88-affb-5e8c28c7d161",
   "metadata": {},
   "outputs": [
    {
     "name": "stdout",
     "output_type": "stream",
     "text": [
      "      price  area  bedrooms  bathrooms  stories mainroad guestroom basement  \\\n",
      "0  13300000  7420         4          2        3      yes        no       no   \n",
      "1  12250000  8960         4          4        4      yes        no       no   \n",
      "2  12250000  9960         3          2        2      yes        no      yes   \n",
      "3  12215000  7500         4          2        2      yes        no      yes   \n",
      "4  11410000  7420         4          1        2      yes       yes      yes   \n",
      "\n",
      "  hotwaterheating airconditioning  parking prefarea furnishingstatus  \n",
      "0              no             yes        2      yes        furnished  \n",
      "1              no             yes        3       no        furnished  \n",
      "2              no              no        2      yes   semi-furnished  \n",
      "3              no             yes        3      yes        furnished  \n",
      "4              no             yes        2       no        furnished  \n"
     ]
    }
   ],
   "source": [
    "df = pd.read_csv('Housing.csv')\n",
    "\n",
    "# Check the first few rows of the data\n",
    "print(df.head())\n",
    "\n",
    "features = ['bedrooms', 'bathrooms', 'stories', 'mainroad', 'guestroom', 'basement', 'hotwaterheating', 'airconditioning', 'parking', 'prefarea', 'furnishingstatus']\n",
    "target = ['price']\n",
    "\n",
    "data = pd.get_dummies(df, columns=features, drop_first=True) #ensures that we one-hot encode the categorical features (i.e. we convert them to binary values) and drop the first column to avoid multicollinearity (i.e. we ensure categories only have two values (yes/no) and nothing more than that)"
   ]
  },
  {
   "cell_type": "code",
   "execution_count": null,
   "id": "2945e392-40fe-4fab-9ce0-28dc4d5601b4",
   "metadata": {},
   "outputs": [],
   "source": [
    "X = data.drop(columns=target) #drops the target column and keeps all the other features\n",
    "Y = np.log(data[target]) #normalizes price ranges i.e. (200000 to 100000 is log(2) = 0.693 and 400000 to 200000 is log(2) = 0.693, keeping ranges proportional) \n",
    "# so when we have data that tends to have a right skew (low cases of extremely high housing prices), we utilize logarithmic transformations to normalize the dataset (i.e. house prices, income, values that are not negative)\n",
    "\n",
    "\n",
    "\n",
    "\n",
    "X_train, X_test, Y_train, Y_test = train_test_split(X, Y, test_size=0.2, random_state=42) #test set is 20% of the data, training set is 80% of the data, random state controls shuffling data before splitting\n",
    "\n",
    "scaler = StandardScaler() #purpose of the scaler is to ensure that all the features are on the same scale, when area and bedrooms are drastically different this ensures the model\n",
    "# is able to converge more efficiently and effectively by scaling the features to a standard normal distribution (mean = 0, standard deviation = 1)\n",
    "X_train_scaled = scaler.fit_transform(X_train)\n",
    "X_test_scaled = scaler.transform(X_test) \n",
    "\n",
    "model = LinearRegression()\n",
    "model.fit(X_train_scaled, Y_train)\n",
    "\n",
    "\n",
    "# Predict the values\n",
    "Y_pred = model.predict(X_test_scaled)\n",
    "Y_test = Y_test.values.flatten()\n",
    "Y_pred = Y_pred.flatten()\n",
    "\n",
    "#Evaluate the model\n",
    "mse = mean_squared_error(Y_test, Y_pred)\n",
    "print(f'Mean Squared Error: {mse}') #note this is normalized on a logarithmic scale to ensure the mse \"makes sense\" and is not skewed by the original scale of the data\n",
    "\n",
    "rmse_log = np.sqrt(mse)\n",
    "print(f'RMSE (log scale): {rmse_log}')\n",
    "\n",
    "# Convert predictions and actual values back to original scale\n",
    "Y_test_original = np.exp(Y_test)\n",
    "Y_pred_original = np.exp(Y_pred)\n",
    "\n",
    "# Compute RMSE in the original scale\n",
    "rmse_original = np.sqrt(mean_squared_error(Y_test_original, Y_pred_original))\n",
    "print(f'RMSE (original scale): {rmse_original}')\n",
    "\n",
    "# Compute Mean Absolute Percentage Error (MAPE)\n",
    "mape = np.mean(np.abs((Y_test_original - Y_pred_original) / Y_test_original)) * 100\n",
    "print(f'MAPE: {mape:.2f}%')\n",
    "\n",
    "\n",
    "plt.scatter(Y_test, Y_pred)\n",
    "min_val = min(min(Y_test), min(Y_pred))  # Get the min value to start the line\n",
    "max_val = max(max(Y_test), max(Y_pred))  # Get the max value to end the line\n",
    "plt.plot([min_val, max_val], [min_val, max_val], color='red', linestyle='--')  # y = x line\n",
    "plt.xlabel('Actual Prices')\n",
    "plt.ylabel('Predicted Prices')\n",
    "plt.title('Actual vs Predicted Prices')\n",
    "plt.show()\n"
   ]
  }
 ],
 "metadata": {
  "kernelspec": {
   "display_name": "Python 3 (ipykernel)",
   "language": "python",
   "name": "python3"
  },
  "language_info": {
   "codemirror_mode": {
    "name": "ipython",
    "version": 3
   },
   "file_extension": ".py",
   "mimetype": "text/x-python",
   "name": "python",
   "nbconvert_exporter": "python",
   "pygments_lexer": "ipython3",
   "version": "3.12.6"
  }
 },
 "nbformat": 4,
 "nbformat_minor": 5
}
